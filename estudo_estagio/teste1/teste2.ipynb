{
 "cells": [
  {
   "cell_type": "markdown",
   "metadata": {},
   "source": [
    "Configurando o ambiente"
   ]
  },
  {
   "cell_type": "code",
   "execution_count": 2,
   "metadata": {},
   "outputs": [
    {
     "data": {
      "text/html": [
       "\n",
       "            <div>\n",
       "                <p><b>SparkSession - in-memory</b></p>\n",
       "                \n",
       "        <div>\n",
       "            <p><b>SparkContext</b></p>\n",
       "\n",
       "            <p><a href=\"http://host.docker.internal:4041\">Spark UI</a></p>\n",
       "\n",
       "            <dl>\n",
       "              <dt>Version</dt>\n",
       "                <dd><code>v3.3.0</code></dd>\n",
       "              <dt>Master</dt>\n",
       "                <dd><code>local[*]</code></dd>\n",
       "              <dt>AppName</dt>\n",
       "                <dd><code>pyspark-shell</code></dd>\n",
       "            </dl>\n",
       "        </div>\n",
       "        \n",
       "            </div>\n",
       "        "
      ],
      "text/plain": [
       "<pyspark.sql.session.SparkSession at 0x194959fa640>"
      ]
     },
     "execution_count": 2,
     "metadata": {},
     "output_type": "execute_result"
    }
   ],
   "source": [
    "import os\n",
    "os.environ[\"JAVA_HOME\"] = \"C:/Program Files/Java/jre1.8.0_341\"\n",
    "os.environ[\"SPARK_HOME\"] = \"C:/app/spark-3.3.0-bin-hadoop3\"\n",
    "\n",
    "import findspark\n",
    "findspark.init()\n",
    "from pyspark import SparkContext\n",
    "sc = SparkContext.getOrCreate()\n",
    "\n",
    "import pyspark\n",
    "from pyspark.sql import SparkSession\n",
    "spark = SparkSession.builder.getOrCreate() \n",
    "spark"
   ]
  },
  {
   "cell_type": "markdown",
   "metadata": {},
   "source": [
    "Lendo o arquivo"
   ]
  },
  {
   "cell_type": "code",
   "execution_count": 18,
   "metadata": {},
   "outputs": [
    {
     "name": "stdout",
     "output_type": "stream",
     "text": [
      "+-------+---+------+--------------------+--------------------+-------------------+---------+---------+\n",
      "|   CNES| UF|  IBGE|                NOME|          LOGRADOURO|             BAIRRO| LATITUDE|LONGITUDE|\n",
      "+-------+---+------+--------------------+--------------------+-------------------+---------+---------+\n",
      "|0033820| 52|520170|UNIDADE DE SAUDE ...|               RUA H|         NOVO MUNDO|-15,90682|-52,22545|\n",
      "|0000108| 26|260290| USF ALTO DOS INDIOS|              RUA 17|PONTE DOS CARVALHOS| -8,28389| -35,0321|\n",
      "|0000116| 26|260290|     USF CHARNECA II|              RUA 02|           CHARNECA| -8,28353|-35,02819|\n",
      "|0000124| 26|260290| USF SAO FRANCISCO I|RUA MANOEL DOMING...|      SAO FRANCISCO|   -8,287|  -35,035|\n",
      "|0000132| 26|260290|         USF ROSARIO|              RUA 01|            ROSARIO| -8,28389| -35,0321|\n",
      "|0000140| 26|260290|        USF JUSSARAL|  ESTRADA DA VITORIA|           JUSSARAL|   -8,287|  -35,035|\n",
      "|0000167| 26|260290|          USF MERCES|     RUA DO FERREIRO|             MERCES|   -8,287|  -35,035|\n",
      "|0000175| 26|260290|           USF SUAPE|RUA JOSE MIGUEL D...|              SUAPE|   -8,287|  -35,035|\n",
      "|0000248| 26|260290|    USF MANOEL VIGIA|RUA PREFEITO DIOM...|PONTE DOS CARVALHOS|   -8,287|  -35,035|\n",
      "|0000256| 26|260290|      USF SANTA ROSA|      RUA SANTA ROSA|         PONTEZINHA|  -8,2243|-34,96841|\n",
      "|0000264| 26|260290|          USF MARUIM|        RUA DO PORTO|PONTE DOS CARVALHOS|  -8,2313|-34,98027|\n",
      "|0000272| 26|260290|     USF ALTO DO SOL|   2 TRAV DA SAUDADE|PONTE DOS CARVALHOS|   -8,287|  -35,035|\n",
      "|0000280| 26|260290|          USF CACARI|RUA ANTONIO DA SILVA|PONTE DOS CARVALHOS|   -8,287|  -35,035|\n",
      "|0000299| 26|260290|        USF TORRINHA|RUA JOSE LINO DE ...|      ALTO CRUZEIRO|   -8,287|  -35,035|\n",
      "|0000302| 26|260290|   USF SANTO ESTEVAO|    RUA DO CEMITERIO|PONTE DOS CARVALHOS| -8,21801|-35,22946|\n",
      "|0000310| 26|260290|  USF ALTO DA IGREJA|RUA PREFEITO DIOM...|PONTE DOS CARVALHOS|   -8,287|  -35,035|\n",
      "|0000337| 26|260290|         USF ARARIBA|ENGENHO ARARIBA D...|            ARARIBA|   -8,287|  -35,035|\n",
      "|0000345| 26|260290|   USF ALTO DO PIRES|  1 TRAV DO CRUZEIRO|PONTE DOS CARVALHOS|   -8,287|  -35,035|\n",
      "|0000353| 26|260290|       USF MALAQUIAS|              RUA 09|          MALAQUIAS| -8,28389| -35,0321|\n",
      "|0000388| 26|260290|USF SAO FRANCISCO...|              RUA 28|      SAO FRANCISCO| -8,28389| -35,0321|\n",
      "+-------+---+------+--------------------+--------------------+-------------------+---------+---------+\n",
      "only showing top 20 rows\n",
      "\n"
     ]
    }
   ],
   "source": [
    "from pyspark.sql.functions import col\n",
    "df3 = spark.read.options(delimiter=';').csv('ubs.csv', header=True)\n",
    "\n",
    "df3.show()"
   ]
  },
  {
   "cell_type": "markdown",
   "metadata": {},
   "source": [
    "Conferindo duplicatas"
   ]
  },
  {
   "cell_type": "code",
   "execution_count": 20,
   "metadata": {},
   "outputs": [
    {
     "name": "stdout",
     "output_type": "stream",
     "text": [
      "+-------+-----+\n",
      "|   CNES|count|\n",
      "+-------+-----+\n",
      "|0398306|    1|\n",
      "|0102822|    1|\n",
      "|0148636|    1|\n",
      "|0279544|    1|\n",
      "|3703509|    1|\n",
      "|2007940|    1|\n",
      "|2033690|    1|\n",
      "|2039958|    1|\n",
      "|2071975|    1|\n",
      "|2085593|    1|\n",
      "|2117886|    1|\n",
      "|2120003|    1|\n",
      "|2120038|    1|\n",
      "|2126192|    1|\n",
      "|2136414|    1|\n",
      "|2141183|    1|\n",
      "|2148900|    1|\n",
      "|2149915|    1|\n",
      "|2150379|    1|\n",
      "|2152495|    1|\n",
      "+-------+-----+\n",
      "only showing top 20 rows\n",
      "\n"
     ]
    }
   ],
   "source": [
    "df3.select(col('CNES')).groupBy(col('CNES')).count().orderBy(col('count'), ascending=False).show()"
   ]
  },
  {
   "cell_type": "markdown",
   "metadata": {},
   "source": [
    "Conferindo nulos"
   ]
  },
  {
   "cell_type": "code",
   "execution_count": 36,
   "metadata": {},
   "outputs": [
    {
     "name": "stdout",
     "output_type": "stream",
     "text": [
      "+-------+---+------+--------------------+--------------------+--------------------+--------+---------+\n",
      "|   CNES| UF|  IBGE|                NOME|          LOGRADOURO|              BAIRRO|LATITUDE|LONGITUDE|\n",
      "+-------+---+------+--------------------+--------------------+--------------------+--------+---------+\n",
      "|0004901| 29|292740|   UBS NOVA BRASILIA|  RUA NELSON LACERDA|       NOVA BRASILIA|    null|     null|\n",
      "|2195534| 31|311730|CENTRO DE SAUDE P...|    RUA ANTONIA ROSA|       FELIPE MANSUR|    null|     null|\n",
      "|0007005| 29|292740|   UBS DE SUSSUARANA|  RUA MARINA QUEIROZ|          SUSSUARANA|    null|     null|\n",
      "|0007803| 15|150240|USF JOSE PEDRO ALVES|   RUA PEDRO PORPINO|            SAO JOSE|    null|     null|\n",
      "|0008117| 35|353440|UBS MARIA GIRADE ...|RUA THEOFILO MUNH...|      JD NOVO OSASCO|    null|     null|\n",
      "|0010979| 53|530040|    CSC 01 CEILANDIA|       AREA ESPECIAL|        CEILANDIA DF|    null|     null|\n",
      "|0012106| 32|320530|UNIDADE BASICA DE...|  RUA SAO BARTOLOMEU|     MORRO DO QUADRO|    null|     null|\n",
      "|0012777| 33|330330|UNIDADE BASICA DE...|LOTEAMENTO BENTO ...|           BALDEADOR|    null|     null|\n",
      "|0012866| 33|330330|UNIDADE BASICA DO...|AVN PASTOR JOSE G...|            CARAMUJO|    null|     null|\n",
      "|0014168| 41|410430|MODULO ODONTO CEN...|RUA JUREMA POMPEU...|       JARDIM LURDES|    null|     null|\n",
      "|0014710| 41|410430|MODULO ODONTO MAR...|RUA NELSON GUIMAR...|     JARDIM PAULISTA|    null|     null|\n",
      "|0014745| 41|410430|MODULO ODONTO ALT...|VILA ROBERTO BREZ...|               RURAL|    null|     null|\n",
      "|0014788| 41|410430|CLINICA ODONTO PA...|AV JUREMA POMPEU ...|           JD LOUDES|    null|     null|\n",
      "|0018910| 41|412550|UNIDADE DE SAUDE ...|RUA JOAO MARIA ROCCO|               BRAGA|    null|     null|\n",
      "|0020990| 41|410430|  MODULO ODONTO APAE|RUA PROFESSOR ETH...|JARDIM SANTA NILCE I|    null|     null|\n",
      "|0021245| 41|410430|MODULO ODONTO PAR...|   AV IRMAOS PEREIRA|              CENTRO|    null|     null|\n",
      "|0021830| 41|410020|    MINI POSTO PERAU|    ESTRADA DO PERAU|               PERAU|    null|     null|\n",
      "|0022241| 26|261160|US 227 PSF TASSO ...|TRAVESSIA CONTINE...|        CAMPO GRANDE|    null|     null|\n",
      "|0026395| 26|261160|US 271 PSF TASSO ...|      RUA GUAIANAZES|        CAMPO GRANDE|    null|     null|\n",
      "|0077488| 27|270895|UBS PEDRO VIEIRA ...|RUA MANOEL DA ROC...|              CENTRO|    null|     null|\n",
      "+-------+---+------+--------------------+--------------------+--------------------+--------+---------+\n",
      "only showing top 20 rows\n",
      "\n"
     ]
    }
   ],
   "source": [
    "df3.filter(col('LATITUDE').isNull()).show()"
   ]
  },
  {
   "cell_type": "code",
   "execution_count": 24,
   "metadata": {},
   "outputs": [
    {
     "data": {
      "text/plain": [
       "43221"
      ]
     },
     "execution_count": 24,
     "metadata": {},
     "output_type": "execute_result"
    }
   ],
   "source": [
    "df3.count()"
   ]
  },
  {
   "cell_type": "code",
   "execution_count": 34,
   "metadata": {},
   "outputs": [
    {
     "data": {
      "text/plain": [
       "30600"
      ]
     },
     "execution_count": 34,
     "metadata": {},
     "output_type": "execute_result"
    }
   ],
   "source": [
    "df3.drop_duplicates(['LATITUDE','LONGITUDE']).count()"
   ]
  },
  {
   "cell_type": "code",
   "execution_count": 35,
   "metadata": {},
   "outputs": [
    {
     "name": "stdout",
     "output_type": "stream",
     "text": [
      "+---------+---------+-----+\n",
      "| LATITUDE|LONGITUDE|count|\n",
      "+---------+---------+-----+\n",
      "|     null|     null| 2155|\n",
      "|  -23,548|  -46,636|  136|\n",
      "|   -9,975|   -67,81|   97|\n",
      "|   -1,456|  -48,504|   87|\n",
      "|  -12,267|  -38,967|   82|\n",
      "|  -22,725|  -47,649|   74|\n",
      "|   -8,054|  -34,881|   71|\n",
      "|  -15,596|  -56,097|   56|\n",
      "|  -25,095|  -50,162|   49|\n",
      "|   -9,414|  -40,503|   49|\n",
      "|  -10,167|  -48,333|   48|\n",
      "|  -22,903|  -43,208|   48|\n",
      "|    -2,53|  -44,303|   43|\n",
      "|-17,53856|-39,72051|   39|\n",
      "|  -19,748|  -47,932|   37|\n",
      "|   -8,762|  -63,904|   37|\n",
      "|  -16,822|  -49,245|   36|\n",
      "|  -21,178|   -47,81|   36|\n",
      "|   -2,443|  -54,708|   35|\n",
      "|  -16,679|  -49,254|   34|\n",
      "+---------+---------+-----+\n",
      "only showing top 20 rows\n",
      "\n"
     ]
    }
   ],
   "source": [
    "df3.select(col('LATITUDE'),col('LONGITUDE')).groupBy(col('LATITUDE'),col('LONGITUDE')).count().orderBy(col('count'), ascending=False).show()"
   ]
  },
  {
   "cell_type": "code",
   "execution_count": 30,
   "metadata": {},
   "outputs": [
    {
     "data": {
      "text/plain": [
       "0"
      ]
     },
     "execution_count": 30,
     "metadata": {},
     "output_type": "execute_result"
    }
   ],
   "source": []
  },
  {
   "cell_type": "code",
   "execution_count": null,
   "metadata": {},
   "outputs": [],
   "source": []
  }
 ],
 "metadata": {
  "kernelspec": {
   "display_name": "Python 3.9.12 ('base')",
   "language": "python",
   "name": "python3"
  },
  "language_info": {
   "codemirror_mode": {
    "name": "ipython",
    "version": 3
   },
   "file_extension": ".py",
   "mimetype": "text/x-python",
   "name": "python",
   "nbconvert_exporter": "python",
   "pygments_lexer": "ipython3",
   "version": "3.9.12"
  },
  "orig_nbformat": 4,
  "vscode": {
   "interpreter": {
    "hash": "99d96cca3ca468288ceba9caa1e598c2e542cfd9bedf40520f445a2bf58b3a9f"
   }
  }
 },
 "nbformat": 4,
 "nbformat_minor": 2
}

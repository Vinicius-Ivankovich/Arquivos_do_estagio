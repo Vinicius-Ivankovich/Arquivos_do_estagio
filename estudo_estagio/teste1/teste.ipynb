{
 "cells": [
  {
   "cell_type": "markdown",
   "metadata": {},
   "source": [
    "Configurando o ambiente"
   ]
  },
  {
   "cell_type": "code",
   "execution_count": 1,
   "metadata": {},
   "outputs": [
    {
     "data": {
      "text/html": [
       "\n",
       "            <div>\n",
       "                <p><b>SparkSession - in-memory</b></p>\n",
       "                \n",
       "        <div>\n",
       "            <p><b>SparkContext</b></p>\n",
       "\n",
       "            <p><a href=\"http://host.docker.internal:4040\">Spark UI</a></p>\n",
       "\n",
       "            <dl>\n",
       "              <dt>Version</dt>\n",
       "                <dd><code>v3.3.0</code></dd>\n",
       "              <dt>Master</dt>\n",
       "                <dd><code>local[*]</code></dd>\n",
       "              <dt>AppName</dt>\n",
       "                <dd><code>pyspark-shell</code></dd>\n",
       "            </dl>\n",
       "        </div>\n",
       "        \n",
       "            </div>\n",
       "        "
      ],
      "text/plain": [
       "<pyspark.sql.session.SparkSession at 0x1fd7225bbe0>"
      ]
     },
     "execution_count": 1,
     "metadata": {},
     "output_type": "execute_result"
    }
   ],
   "source": [
    "import os\n",
    "os.environ[\"JAVA_HOME\"] = \"C:/Program Files/Java/jre1.8.0_341\"\n",
    "os.environ[\"SPARK_HOME\"] = \"C:/app/spark-3.3.0-bin-hadoop3\"\n",
    "\n",
    "import findspark\n",
    "findspark.init()\n",
    "from pyspark import SparkContext\n",
    "sc = SparkContext.getOrCreate()\n",
    "\n",
    "import pyspark\n",
    "from pyspark.sql import SparkSession\n",
    "spark = SparkSession.builder.getOrCreate() \n",
    "spark"
   ]
  },
  {
   "cell_type": "markdown",
   "metadata": {},
   "source": [
    "Lendo o arquivo"
   ]
  },
  {
   "cell_type": "code",
   "execution_count": 2,
   "metadata": {},
   "outputs": [
    {
     "name": "stdout",
     "output_type": "stream",
     "text": [
      "+---+----------+-----------+--------------------+-----------+---------------+\n",
      "| id|first_name|  last_name|               email|     gender|     ip_address|\n",
      "+---+----------+-----------+--------------------+-----------+---------------+\n",
      "|  1|     Mayne|      Golby| mgolby0@tinypic.com|       Male|  77.159.154.40|\n",
      "|  2|      Tito|   Assender|tassender1@dropbo...|       Male|  80.68.173.132|\n",
      "|  3|   Michail|     Fidgin|mfidgin2@alibaba.com|       Male| 239.196.86.189|\n",
      "|  4|     Romeo|    Bunford|  rbunford3@hibu.com|       Male|  197.91.173.74|\n",
      "|  5|     Tisha|    Wittier|twittier4@constan...|     Female|  133.45.46.161|\n",
      "|  6|   Gwennie|    Oldland|goldland5@bloglov...|     Female|   44.96.85.209|\n",
      "|  7|    Sumner|    Beckers| sbeckers6@europa.eu|       Male|           null|\n",
      "|  8|  Kristian|  Arrundale|karrundale7@skyro...|       Male|  204.107.21.42|\n",
      "|  9| Maryellen|      Swash|   mswash8@google.nl|     Female|   50.70.77.252|\n",
      "| 10|   Doralyn|  Philippou| dphilippou9@irs.gov|Genderqueer|  95.179.150.39|\n",
      "| 11|  Trumaine|  Loveguard|tloveguarda@cnet.com|       null| 144.48.200.244|\n",
      "| 12|    Gisela|     Ivanov|givanovb@opensour...|     Female| 119.40.222.242|\n",
      "| 13|   Teriann|  Ecclesall|tecclesallc@mozil...|     Female|164.195.115.164|\n",
      "| 14|      Seka|   Ricardou|sricardoud@github...|     Female|  146.93.247.15|\n",
      "| 15|     Mikol|Crossingham|mcrossinghame@git...|       null|  243.38.128.72|\n",
      "| 16|     Loren| Paddingdon|lpaddingdonf@ihg.com|       Male| 193.233.210.65|\n",
      "| 17|      Dale|     Oliver|   doliverg@ox.ac.uk|    Agender| 188.150.85.145|\n",
      "| 18|      Gwyn|     Pyford|gpyfordh@independ...|     Female| 98.120.164.200|\n",
      "| 19|     Letta|     Menico|     lmenicoi@360.cn|     Female| 160.16.171.140|\n",
      "| 20|   Ricardo|    Billson|rbillsonj@reuters...|       Male|           null|\n",
      "+---+----------+-----------+--------------------+-----------+---------------+\n",
      "only showing top 20 rows\n",
      "\n"
     ]
    }
   ],
   "source": [
    "df=spark.read.csv('MOCK_DATA.csv', header=True)\n",
    "df.show()"
   ]
  },
  {
   "cell_type": "code",
   "execution_count": 4,
   "metadata": {},
   "outputs": [],
   "source": [
    "from pyspark.sql.functions import col\n"
   ]
  },
  {
   "cell_type": "markdown",
   "metadata": {},
   "source": [
    "Habilitando uso de queries em SQL"
   ]
  },
  {
   "cell_type": "code",
   "execution_count": 9,
   "metadata": {},
   "outputs": [
    {
     "name": "stdout",
     "output_type": "stream",
     "text": [
      "+---+----------+-----------+--------------------+-----------+---------------+\n",
      "| id|first_name|  last_name|               email|     gender|     ip_address|\n",
      "+---+----------+-----------+--------------------+-----------+---------------+\n",
      "|  1|     Mayne|      Golby| mgolby0@tinypic.com|       Male|  77.159.154.40|\n",
      "|  2|      Tito|   Assender|tassender1@dropbo...|       Male|  80.68.173.132|\n",
      "|  3|   Michail|     Fidgin|mfidgin2@alibaba.com|       Male| 239.196.86.189|\n",
      "|  4|     Romeo|    Bunford|  rbunford3@hibu.com|       Male|  197.91.173.74|\n",
      "|  5|     Tisha|    Wittier|twittier4@constan...|     Female|  133.45.46.161|\n",
      "|  6|   Gwennie|    Oldland|goldland5@bloglov...|     Female|   44.96.85.209|\n",
      "|  7|    Sumner|    Beckers| sbeckers6@europa.eu|       Male|           null|\n",
      "|  8|  Kristian|  Arrundale|karrundale7@skyro...|       Male|  204.107.21.42|\n",
      "|  9| Maryellen|      Swash|   mswash8@google.nl|     Female|   50.70.77.252|\n",
      "| 10|   Doralyn|  Philippou| dphilippou9@irs.gov|Genderqueer|  95.179.150.39|\n",
      "| 11|  Trumaine|  Loveguard|tloveguarda@cnet.com|       null| 144.48.200.244|\n",
      "| 12|    Gisela|     Ivanov|givanovb@opensour...|     Female| 119.40.222.242|\n",
      "| 13|   Teriann|  Ecclesall|tecclesallc@mozil...|     Female|164.195.115.164|\n",
      "| 14|      Seka|   Ricardou|sricardoud@github...|     Female|  146.93.247.15|\n",
      "| 15|     Mikol|Crossingham|mcrossinghame@git...|       null|  243.38.128.72|\n",
      "| 16|     Loren| Paddingdon|lpaddingdonf@ihg.com|       Male| 193.233.210.65|\n",
      "| 17|      Dale|     Oliver|   doliverg@ox.ac.uk|    Agender| 188.150.85.145|\n",
      "| 18|      Gwyn|     Pyford|gpyfordh@independ...|     Female| 98.120.164.200|\n",
      "| 19|     Letta|     Menico|     lmenicoi@360.cn|     Female| 160.16.171.140|\n",
      "| 20|   Ricardo|    Billson|rbillsonj@reuters...|       Male|           null|\n",
      "+---+----------+-----------+--------------------+-----------+---------------+\n",
      "only showing top 20 rows\n",
      "\n"
     ]
    }
   ],
   "source": [
    "df.createOrReplaceTempView(\"data\")\n",
    "spark.sql(\"SELECT * FROM data\").show()"
   ]
  },
  {
   "cell_type": "markdown",
   "metadata": {},
   "source": [
    "Contando o número de nulos"
   ]
  },
  {
   "cell_type": "code",
   "execution_count": 37,
   "metadata": {},
   "outputs": [
    {
     "name": "stdout",
     "output_type": "stream",
     "text": [
      "+-----------+-----+\n",
      "|     Gender|count|\n",
      "+-----------+-----+\n",
      "|Genderqueer|    1|\n",
      "|       null|    9|\n",
      "|     Female|   56|\n",
      "| Non-binary|    1|\n",
      "|       Male|   47|\n",
      "|Genderfluid|    1|\n",
      "+-----------+-----+\n",
      "\n"
     ]
    }
   ],
   "source": [
    "\n",
    "df.filter(col('ip_address').isNull()).groupBy(col('Gender')).count().show()"
   ]
  },
  {
   "cell_type": "markdown",
   "metadata": {},
   "source": [
    "Transformar dataframe em RDD"
   ]
  },
  {
   "cell_type": "code",
   "execution_count": 22,
   "metadata": {},
   "outputs": [],
   "source": [
    "dd = df.rdd\n"
   ]
  },
  {
   "cell_type": "markdown",
   "metadata": {},
   "source": [
    "Transformar RDD em dataframe"
   ]
  },
  {
   "cell_type": "code",
   "execution_count": 23,
   "metadata": {},
   "outputs": [
    {
     "name": "stdout",
     "output_type": "stream",
     "text": [
      "+---+----------+-----------+--------------------+-----------+---------------+\n",
      "| id|first_name|  last_name|               email|     gender|     ip_address|\n",
      "+---+----------+-----------+--------------------+-----------+---------------+\n",
      "|  1|     Mayne|      Golby| mgolby0@tinypic.com|       Male|  77.159.154.40|\n",
      "|  2|      Tito|   Assender|tassender1@dropbo...|       Male|  80.68.173.132|\n",
      "|  3|   Michail|     Fidgin|mfidgin2@alibaba.com|       Male| 239.196.86.189|\n",
      "|  4|     Romeo|    Bunford|  rbunford3@hibu.com|       Male|  197.91.173.74|\n",
      "|  5|     Tisha|    Wittier|twittier4@constan...|     Female|  133.45.46.161|\n",
      "|  6|   Gwennie|    Oldland|goldland5@bloglov...|     Female|   44.96.85.209|\n",
      "|  7|    Sumner|    Beckers| sbeckers6@europa.eu|       Male|           null|\n",
      "|  8|  Kristian|  Arrundale|karrundale7@skyro...|       Male|  204.107.21.42|\n",
      "|  9| Maryellen|      Swash|   mswash8@google.nl|     Female|   50.70.77.252|\n",
      "| 10|   Doralyn|  Philippou| dphilippou9@irs.gov|Genderqueer|  95.179.150.39|\n",
      "| 11|  Trumaine|  Loveguard|tloveguarda@cnet.com|       null| 144.48.200.244|\n",
      "| 12|    Gisela|     Ivanov|givanovb@opensour...|     Female| 119.40.222.242|\n",
      "| 13|   Teriann|  Ecclesall|tecclesallc@mozil...|     Female|164.195.115.164|\n",
      "| 14|      Seka|   Ricardou|sricardoud@github...|     Female|  146.93.247.15|\n",
      "| 15|     Mikol|Crossingham|mcrossinghame@git...|       null|  243.38.128.72|\n",
      "| 16|     Loren| Paddingdon|lpaddingdonf@ihg.com|       Male| 193.233.210.65|\n",
      "| 17|      Dale|     Oliver|   doliverg@ox.ac.uk|    Agender| 188.150.85.145|\n",
      "| 18|      Gwyn|     Pyford|gpyfordh@independ...|     Female| 98.120.164.200|\n",
      "| 19|     Letta|     Menico|     lmenicoi@360.cn|     Female| 160.16.171.140|\n",
      "| 20|   Ricardo|    Billson|rbillsonj@reuters...|       Male|           null|\n",
      "+---+----------+-----------+--------------------+-----------+---------------+\n",
      "only showing top 20 rows\n",
      "\n"
     ]
    }
   ],
   "source": [
    "df2 = dd.toDF()\n",
    "df2.show()"
   ]
  },
  {
   "cell_type": "markdown",
   "metadata": {},
   "source": [
    "Primeira checagem para verificar se há duplicatas"
   ]
  },
  {
   "cell_type": "code",
   "execution_count": 35,
   "metadata": {},
   "outputs": [
    {
     "name": "stdout",
     "output_type": "stream",
     "text": [
      "+--------------------+-----+\n",
      "|               email|count|\n",
      "+--------------------+-----+\n",
      "|ryarrow4w@virgini...|    1|\n",
      "|pguestee8@arstech...|    1|\n",
      "|kmocklerij@hc360.com|    1|\n",
      "|    gdikeja@hibu.com|    1|\n",
      "|cweagenerle@const...|    1|\n",
      "| mmanston30@narod.ru|    1|\n",
      "|ssperrett6y@daily...|    1|\n",
      "|dsnaithk8@newsvin...|    1|\n",
      "|  kcuddonpu@youtu.be|    1|\n",
      "|cjallinrq@berkele...|    1|\n",
      "|medgwortho@elpais...|    1|\n",
      "|rdumbrill43@xinhu...|    1|\n",
      "|msean9@yellowpage...|    1|\n",
      "|gswindonnu@godadd...|    1|\n",
      "|pbalderstonu@slid...|    1|\n",
      "|   eions1l@jimdo.com|    1|\n",
      "|    djandljm@msn.com|    1|\n",
      "|cmill15@hostgator...|    1|\n",
      "|pfanstone53@bing.com|    1|\n",
      "|lnegus5x@sitemete...|    1|\n",
      "+--------------------+-----+\n",
      "only showing top 20 rows\n",
      "\n"
     ]
    }
   ],
   "source": [
    "df.select(col('email')).groupBy(col('email')).count().orderBy(col('count'), ascending=False).show()"
   ]
  },
  {
   "cell_type": "code",
   "execution_count": null,
   "metadata": {},
   "outputs": [],
   "source": []
  }
 ],
 "metadata": {
  "kernelspec": {
   "display_name": "Python 3.9.12 ('base')",
   "language": "python",
   "name": "python3"
  },
  "language_info": {
   "codemirror_mode": {
    "name": "ipython",
    "version": 3
   },
   "file_extension": ".py",
   "mimetype": "text/x-python",
   "name": "python",
   "nbconvert_exporter": "python",
   "pygments_lexer": "ipython3",
   "version": "3.9.12"
  },
  "orig_nbformat": 4,
  "vscode": {
   "interpreter": {
    "hash": "99d96cca3ca468288ceba9caa1e598c2e542cfd9bedf40520f445a2bf58b3a9f"
   }
  }
 },
 "nbformat": 4,
 "nbformat_minor": 2
}
